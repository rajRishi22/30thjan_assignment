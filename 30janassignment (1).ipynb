{
 "cells": [
  {
   "cell_type": "code",
   "execution_count": 7,
   "id": "534bbeb9-eb45-4cd0-9801-8f462f52787e",
   "metadata": {},
   "outputs": [
    {
     "name": "stdin",
     "output_type": "stream",
     "text": [
      " 68\n"
     ]
    },
    {
     "name": "stdout",
     "output_type": "stream",
     "text": [
      "C\n"
     ]
    }
   ],
   "source": [
    "# 1.Ans\n",
    "# marks;\n",
    "marks=int(input());\n",
    "if marks>90:\n",
    "    print(\"A\")\n",
    "elif 80<marks<=90:\n",
    "    print(\"B\")\n",
    "elif 60<=marks<=80:\n",
    "    print(\"C\")\n",
    "else:\n",
    "    print(\"D\")\n",
    "    \n"
   ]
  },
  {
   "cell_type": "code",
   "execution_count": 11,
   "id": "cb2609e3-3b5c-4115-ac98-2125325b9987",
   "metadata": {},
   "outputs": [
    {
     "name": "stdin",
     "output_type": "stream",
     "text": [
      " 3000\n"
     ]
    },
    {
     "name": "stdout",
     "output_type": "stream",
     "text": [
      "The Roadtax to be paid is150.0\n"
     ]
    }
   ],
   "source": [
    "# 2.Ans\n",
    "costprice=int(input());\n",
    "if costprice>100000:\n",
    "    print(\"The Roadtax to be paid is\"+str(costprice*0.15))\n",
    "elif 50000<costprice<=100000:\n",
    "        print(\"The Roadtax to be paid is\"+str(costprice*0.10))\n",
    "else:\n",
    "        print(\"The Roadtax to be paid is\"+str(costprice*0.05))\n",
    "\n"
   ]
  },
  {
   "cell_type": "code",
   "execution_count": 1,
   "id": "d73ff4a1-e59e-454e-a5ae-48723a608550",
   "metadata": {},
   "outputs": [
    {
     "name": "stdout",
     "output_type": "stream",
     "text": [
      "Enter name of a city\n"
     ]
    },
    {
     "name": "stdin",
     "output_type": "stream",
     "text": [
      " Delhi\n"
     ]
    },
    {
     "name": "stdout",
     "output_type": "stream",
     "text": [
      "Red Fort\n"
     ]
    }
   ],
   "source": [
    "# 3.Ans\n",
    "print(\"Enter name of a city\")\n",
    "city=input()\n",
    "if city==\"Delhi\":\n",
    "    print(\"Red Fort\")\n",
    "elif city==\"Agra\":\n",
    "    print(\"Taj Mahal\")\n",
    "elif city==\"Jaipur\":\n",
    "    print(\"Jal Mahal\")\n",
    "else:\n",
    "    print(\"Invalid Case\")\n"
   ]
  },
  {
   "cell_type": "code",
   "execution_count": 4,
   "id": "127c0cee-29c3-4342-83cc-a5c99c192c98",
   "metadata": {},
   "outputs": [
    {
     "name": "stdin",
     "output_type": "stream",
     "text": [
      " 89\n"
     ]
    },
    {
     "name": "stdout",
     "output_type": "stream",
     "text": [
      "2\n"
     ]
    }
   ],
   "source": [
    "# 4.Ans\n",
    "count=0;\n",
    "n=int(input())\n",
    "# for i in range()\n",
    "while n>10:\n",
    "    n=(n/3);\n",
    "    count=count+1;\n",
    "print(count)"
   ]
  },
  {
   "cell_type": "code",
   "execution_count": null,
   "id": "8f581a66-cc19-4b2c-b55a-e00e109219b0",
   "metadata": {},
   "outputs": [],
   "source": [
    "5. While loop is used in python when we want to stop execution of a piece of code just before a condition fails to meet .\n",
    "Unlike for loop you don't need to have a range in it. You will just need a condition.\n"
   ]
  },
  {
   "cell_type": "code",
   "execution_count": null,
   "id": "b7813a57-9a22-433f-a126-4ae53b288d1f",
   "metadata": {},
   "outputs": [],
   "source": [
    "# 6.Ans\n",
    "n=10\n",
    "m=5;\n",
    "while(n>0):\n",
    "    while(m>0):\n",
    "        print(str(m)+\" \"+str(n))\n",
    "        m=m-1;\n",
    "        n=n-1;"
   ]
  },
  {
   "cell_type": "code",
   "execution_count": null,
   "id": "2dedab5c-4c27-46b8-8474-50a5b40a2451",
   "metadata": {},
   "outputs": [],
   "source": [
    "# 6.Ans\n",
    "n=10\n",
    "m=5;\n",
    "while n>0:\n",
    "    while m>0:\n",
    "        print(\"#\",\" \",\"#\")\n",
    "        m=m-1\n",
    "    n=n-1"
   ]
  },
  {
   "cell_type": "code",
   "execution_count": null,
   "id": "fbe90e1a-72b1-469b-a2e7-17758008c32d",
   "metadata": {},
   "outputs": [],
   "source": [
    "# 7.Ans\n",
    "n=10;\n",
    "while n>0:\n",
    "    print(n);\n",
    "    n--;"
   ]
  },
  {
   "cell_type": "code",
   "execution_count": null,
   "id": "e15cb29d-511f-413c-a7b4-252ba7e4964a",
   "metadata": {},
   "outputs": [],
   "source": []
  }
 ],
 "metadata": {
  "kernelspec": {
   "display_name": "Python 3 (ipykernel)",
   "language": "python",
   "name": "python3"
  },
  "language_info": {
   "codemirror_mode": {
    "name": "ipython",
    "version": 3
   },
   "file_extension": ".py",
   "mimetype": "text/x-python",
   "name": "python",
   "nbconvert_exporter": "python",
   "pygments_lexer": "ipython3",
   "version": "3.10.8"
  }
 },
 "nbformat": 4,
 "nbformat_minor": 5
}
